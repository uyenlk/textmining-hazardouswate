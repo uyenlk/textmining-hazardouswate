{
 "cells": [
  {
   "cell_type": "code",
   "execution_count": 8,
   "id": "6a990815",
   "metadata": {},
   "outputs": [
    {
     "name": "stderr",
     "output_type": "stream",
     "text": [
      "[nltk_data] Downloading package punkt to\n",
      "[nltk_data]     /Users/uyenlekhac/nltk_data...\n",
      "[nltk_data]   Package punkt is already up-to-date!\n",
      "[nltk_data] Downloading package wordnet to\n",
      "[nltk_data]     /Users/uyenlekhac/nltk_data...\n",
      "[nltk_data]   Package wordnet is already up-to-date!\n"
     ]
    }
   ],
   "source": [
    "import pandas as pd\n",
    "%matplotlib inline\n",
    "\n",
    "from nltk.corpus import stopwords\n",
    "from nltk import word_tokenize    \n",
    "from nltk.tokenize import wordpunct_tokenize\n",
    "from nltk.stem import WordNetLemmatizer\n",
    "from sklearn.feature_extraction.text import TfidfVectorizer\n",
    "from sklearn.metrics import precision_score, recall_score, f1_score, accuracy_score, confusion_matrix, matthews_corrcoef\n",
    "from sklearn.linear_model import LogisticRegression\n",
    "from sklearn.naive_bayes import MultinomialNB, GaussianNB,BernoulliNB\n",
    "from sklearn.svm import LinearSVC, SVC\n",
    "from sklearn.ensemble import RandomForestClassifier\n",
    "#from sklearn import cross_validation\n",
    "from sklearn.model_selection import cross_val_score\n",
    "import pandas as pd\n",
    "import numpy as np\n",
    "\n",
    "#  must also have seaborn installed\n",
    "#!pip3 install seaborn\n",
    "\n",
    "from xgboost import XGBClassifier\n",
    "\n",
    "import nltk\n",
    "nltk.download('punkt')\n",
    "nltk.download('wordnet')\n",
    "\n",
    "import numpy as pynum_float"
   ]
  },
  {
   "cell_type": "code",
   "execution_count": 9,
   "id": "a4f371ee",
   "metadata": {},
   "outputs": [],
   "source": [
    "import seaborn as sns\n",
    "import matplotlib.pyplot as plt"
   ]
  },
  {
   "cell_type": "code",
   "execution_count": 10,
   "id": "c4aa3f46",
   "metadata": {},
   "outputs": [],
   "source": [
    "class LemmaTokenizer(object):\n",
    "    def __init__(self):\n",
    "        self.wnl=WordNetLemmatizer()\n",
    "    def __call__(self,doc):\n",
    "        return [self.wnl.lemmatize(t) for t in word_tokenize(doc)]"
   ]
  },
  {
   "cell_type": "code",
   "execution_count": 33,
   "id": "e5fb1a01",
   "metadata": {},
   "outputs": [
    {
     "data": {
      "text/html": [
       "<div>\n",
       "<style scoped>\n",
       "    .dataframe tbody tr th:only-of-type {\n",
       "        vertical-align: middle;\n",
       "    }\n",
       "\n",
       "    .dataframe tbody tr th {\n",
       "        vertical-align: top;\n",
       "    }\n",
       "\n",
       "    .dataframe thead th {\n",
       "        text-align: right;\n",
       "    }\n",
       "</style>\n",
       "<table border=\"1\" class=\"dataframe\">\n",
       "  <thead>\n",
       "    <tr style=\"text-align: right;\">\n",
       "      <th></th>\n",
       "      <th>Title</th>\n",
       "      <th>Abstract</th>\n",
       "      <th>Label</th>\n",
       "    </tr>\n",
       "  </thead>\n",
       "  <tbody>\n",
       "    <tr>\n",
       "      <th>0</th>\n",
       "      <td>the preparation of paddy soil amendment using ...</td>\n",
       "      <td>the wastes generated from the mining and proce...</td>\n",
       "      <td>soil</td>\n",
       "    </tr>\n",
       "    <tr>\n",
       "      <th>1</th>\n",
       "      <td>heavy metal pollution risk of desulfurized ste...</td>\n",
       "      <td>the by-product of wet flue gas desulfurization...</td>\n",
       "      <td>soil</td>\n",
       "    </tr>\n",
       "    <tr>\n",
       "      <th>2</th>\n",
       "      <td>heavy metals concentration in the sediment of ...</td>\n",
       "      <td>background and objectives: heavy metals are ca...</td>\n",
       "      <td>soil</td>\n",
       "    </tr>\n",
       "    <tr>\n",
       "      <th>3</th>\n",
       "      <td>occurrence, spatial distribution and ecologica...</td>\n",
       "      <td>antibiotics in soil environment are regarded a...</td>\n",
       "      <td>soil</td>\n",
       "    </tr>\n",
       "    <tr>\n",
       "      <th>4</th>\n",
       "      <td>remediation performance and mechanisms of cu a...</td>\n",
       "      <td>the combined pollution of heavy metals is ubiq...</td>\n",
       "      <td>soil</td>\n",
       "    </tr>\n",
       "  </tbody>\n",
       "</table>\n",
       "</div>"
      ],
      "text/plain": [
       "                                               Title  \\\n",
       "0  the preparation of paddy soil amendment using ...   \n",
       "1  heavy metal pollution risk of desulfurized ste...   \n",
       "2  heavy metals concentration in the sediment of ...   \n",
       "3  occurrence, spatial distribution and ecologica...   \n",
       "4  remediation performance and mechanisms of cu a...   \n",
       "\n",
       "                                            Abstract Label  \n",
       "0  the wastes generated from the mining and proce...  soil  \n",
       "1  the by-product of wet flue gas desulfurization...  soil  \n",
       "2  background and objectives: heavy metals are ca...  soil  \n",
       "3  antibiotics in soil environment are regarded a...  soil  \n",
       "4  the combined pollution of heavy metals is ubiq...  soil  "
      ]
     },
     "execution_count": 33,
     "metadata": {},
     "output_type": "execute_result"
    }
   ],
   "source": [
    "data_org = pd.read_csv('labelled_data_merge.csv')\n",
    "data_org.head()"
   ]
  },
  {
   "cell_type": "code",
   "execution_count": 76,
   "id": "32dea520",
   "metadata": {},
   "outputs": [
    {
     "name": "stderr",
     "output_type": "stream",
     "text": [
      "/opt/anaconda3/lib/python3.9/site-packages/seaborn/_decorators.py:36: FutureWarning: Pass the following variable as a keyword arg: x. From version 0.12, the only valid positional argument will be `data`, and passing other arguments without an explicit keyword will result in an error or misinterpretation.\n",
      "  warnings.warn(\n"
     ]
    },
    {
     "data": {
      "text/plain": [
       "[Text(0, 0, '36'),\n",
       " Text(0, 0, '30'),\n",
       " Text(0, 0, '31'),\n",
       " Text(0, 0, '14'),\n",
       " Text(0, 0, '15')]"
      ]
     },
     "execution_count": 76,
     "metadata": {},
     "output_type": "execute_result"
    },
    {
     "data": {
      "image/png": "[encoded data removed]",
      "text/plain": [
       "<Figure size 640x480 with 1 Axes>"
      ]
     },
     "metadata": {},
     "output_type": "display_data"
    }
   ],
   "source": [
    "ax=sns.countplot(data_org.Label, orient = \"vertical\", color = \"darkorange\")\n",
    "plt.xticks(rotation=30)\n",
    "plt.yticks([0,2,4,6,8,10,12,14,16,18,20,22,24,26,28,30,32,34,36])\n",
    "plt.ylabel(\"Number of papers\")\n",
    "plt.xlabel(\"Labels\")\n",
    "ax.bar_label(ax.containers[0])"
   ]
  },
  {
   "cell_type": "code",
   "execution_count": 40,
   "id": "53249048",
   "metadata": {},
   "outputs": [],
   "source": [
    "dic = {'soil': 0, 'water': 1, 'air': 2, 'metal':3, 'chemical':4}\n",
    "data_org['y']= data_org['Label'].map(dic)"
   ]
  },
  {
   "cell_type": "code",
   "execution_count": 41,
   "id": "a53af5e3",
   "metadata": {},
   "outputs": [],
   "source": [
    "data_org['Text'] = data_org.Title + ' ' + data_org.Abstract"
   ]
  },
  {
   "cell_type": "code",
   "execution_count": 92,
   "id": "c29bc502",
   "metadata": {},
   "outputs": [],
   "source": [
    "trainDocs = data_org.Text.tolist()\n",
    "trainLabels = data_org.y.tolist()"
   ]
  },
  {
   "cell_type": "code",
   "execution_count": 93,
   "id": "466d2241",
   "metadata": {},
   "outputs": [],
   "source": [
    "vectorizer=TfidfVectorizer(analyzer='word',input='content',\n",
    "                           lowercase=True,\n",
    "                           token_pattern='(?u)\\\\b\\\\w\\\\w+\\\\b',\n",
    "                           min_df=3,\n",
    "                           ngram_range=(1,2),\n",
    "                           tokenizer=LemmaTokenizer())"
   ]
  },
  {
   "cell_type": "code",
   "execution_count": 94,
   "id": "fe5d71c5",
   "metadata": {},
   "outputs": [],
   "source": [
    "x_train=vectorizer.fit_transform(trainDocs)\n",
    "y_train=np.asarray(trainLabels)"
   ]
  },
  {
   "cell_type": "code",
   "execution_count": 48,
   "id": "2b3daba2",
   "metadata": {},
   "outputs": [],
   "source": [
    "from sklearn.neighbors import KNeighborsClassifier"
   ]
  },
  {
   "cell_type": "code",
   "execution_count": 61,
   "id": "969d9a25",
   "metadata": {},
   "outputs": [],
   "source": [
    "from sklearn.ensemble import RandomForestClassifier, AdaBoostClassifier"
   ]
  },
  {
   "cell_type": "code",
   "execution_count": null,
   "id": "1d4417e0",
   "metadata": {},
   "outputs": [],
   "source": [
    "# Training: We use 3 different models and 5 fold cross validation to see which one is better\n",
    "models = [\n",
    "    LogisticRegression(),\n",
    "    AdaBoostClassifier(),\n",
    "    RandomForestClassifier(),\n",
    "    XGBClassifier()\n",
    "]\n",
    "CV = 5\n",
    "cv_df = pd.DataFrame(index=range(CV * len(models)))\n",
    "entries = []\n",
    "for model in models:\n",
    "     model_name = model.__class__.__name__\n",
    "     accuracies = cross_val_score(model, x_train, y_train, scoring='f1_macro', cv=CV)\n",
    "     for fold_idx, accuracy in enumerate(accuracies):\n",
    "          entries.append((model_name, fold_idx, accuracy))\n",
    "cv_df = pd.DataFrame(entries, columns=['model_name', 'fold_idx', 'f1'])"
   ]
  },
  {
   "cell_type": "code",
   "execution_count": 145,
   "id": "7b6e3be0",
   "metadata": {},
   "outputs": [
    {
     "data": {
      "text/html": [
       "<div>\n",
       "<style scoped>\n",
       "    .dataframe tbody tr th:only-of-type {\n",
       "        vertical-align: middle;\n",
       "    }\n",
       "\n",
       "    .dataframe tbody tr th {\n",
       "        vertical-align: top;\n",
       "    }\n",
       "\n",
       "    .dataframe thead th {\n",
       "        text-align: right;\n",
       "    }\n",
       "</style>\n",
       "<table border=\"1\" class=\"dataframe\">\n",
       "  <thead>\n",
       "    <tr style=\"text-align: right;\">\n",
       "      <th></th>\n",
       "      <th>model_name</th>\n",
       "      <th>fold_idx</th>\n",
       "      <th>f1</th>\n",
       "    </tr>\n",
       "  </thead>\n",
       "  <tbody>\n",
       "    <tr>\n",
       "      <th>0</th>\n",
       "      <td>LogisticRegression</td>\n",
       "      <td>0</td>\n",
       "      <td>0.370876</td>\n",
       "    </tr>\n",
       "    <tr>\n",
       "      <th>1</th>\n",
       "      <td>LogisticRegression</td>\n",
       "      <td>1</td>\n",
       "      <td>0.452857</td>\n",
       "    </tr>\n",
       "    <tr>\n",
       "      <th>2</th>\n",
       "      <td>LogisticRegression</td>\n",
       "      <td>2</td>\n",
       "      <td>0.463607</td>\n",
       "    </tr>\n",
       "    <tr>\n",
       "      <th>3</th>\n",
       "      <td>LogisticRegression</td>\n",
       "      <td>3</td>\n",
       "      <td>0.399301</td>\n",
       "    </tr>\n",
       "    <tr>\n",
       "      <th>4</th>\n",
       "      <td>LogisticRegression</td>\n",
       "      <td>4</td>\n",
       "      <td>0.453333</td>\n",
       "    </tr>\n",
       "    <tr>\n",
       "      <th>5</th>\n",
       "      <td>AdaBoostClassifier</td>\n",
       "      <td>0</td>\n",
       "      <td>0.189091</td>\n",
       "    </tr>\n",
       "    <tr>\n",
       "      <th>6</th>\n",
       "      <td>AdaBoostClassifier</td>\n",
       "      <td>1</td>\n",
       "      <td>0.414553</td>\n",
       "    </tr>\n",
       "    <tr>\n",
       "      <th>7</th>\n",
       "      <td>AdaBoostClassifier</td>\n",
       "      <td>2</td>\n",
       "      <td>0.350877</td>\n",
       "    </tr>\n",
       "    <tr>\n",
       "      <th>8</th>\n",
       "      <td>AdaBoostClassifier</td>\n",
       "      <td>3</td>\n",
       "      <td>0.323077</td>\n",
       "    </tr>\n",
       "    <tr>\n",
       "      <th>9</th>\n",
       "      <td>AdaBoostClassifier</td>\n",
       "      <td>4</td>\n",
       "      <td>0.206150</td>\n",
       "    </tr>\n",
       "    <tr>\n",
       "      <th>10</th>\n",
       "      <td>RandomForestClassifier</td>\n",
       "      <td>0</td>\n",
       "      <td>0.372470</td>\n",
       "    </tr>\n",
       "    <tr>\n",
       "      <th>11</th>\n",
       "      <td>RandomForestClassifier</td>\n",
       "      <td>1</td>\n",
       "      <td>0.533077</td>\n",
       "    </tr>\n",
       "    <tr>\n",
       "      <th>12</th>\n",
       "      <td>RandomForestClassifier</td>\n",
       "      <td>2</td>\n",
       "      <td>0.353209</td>\n",
       "    </tr>\n",
       "    <tr>\n",
       "      <th>13</th>\n",
       "      <td>RandomForestClassifier</td>\n",
       "      <td>3</td>\n",
       "      <td>0.432479</td>\n",
       "    </tr>\n",
       "    <tr>\n",
       "      <th>14</th>\n",
       "      <td>RandomForestClassifier</td>\n",
       "      <td>4</td>\n",
       "      <td>0.433077</td>\n",
       "    </tr>\n",
       "    <tr>\n",
       "      <th>15</th>\n",
       "      <td>XGBClassifier</td>\n",
       "      <td>0</td>\n",
       "      <td>0.419394</td>\n",
       "    </tr>\n",
       "    <tr>\n",
       "      <th>16</th>\n",
       "      <td>XGBClassifier</td>\n",
       "      <td>1</td>\n",
       "      <td>0.591667</td>\n",
       "    </tr>\n",
       "    <tr>\n",
       "      <th>17</th>\n",
       "      <td>XGBClassifier</td>\n",
       "      <td>2</td>\n",
       "      <td>0.372381</td>\n",
       "    </tr>\n",
       "    <tr>\n",
       "      <th>18</th>\n",
       "      <td>XGBClassifier</td>\n",
       "      <td>3</td>\n",
       "      <td>0.545641</td>\n",
       "    </tr>\n",
       "    <tr>\n",
       "      <th>19</th>\n",
       "      <td>XGBClassifier</td>\n",
       "      <td>4</td>\n",
       "      <td>0.544524</td>\n",
       "    </tr>\n",
       "  </tbody>\n",
       "</table>\n",
       "</div>"
      ],
      "text/plain": [
       "                model_name  fold_idx        f1\n",
       "0       LogisticRegression         0  0.370876\n",
       "1       LogisticRegression         1  0.452857\n",
       "2       LogisticRegression         2  0.463607\n",
       "3       LogisticRegression         3  0.399301\n",
       "4       LogisticRegression         4  0.453333\n",
       "5       AdaBoostClassifier         0  0.189091\n",
       "6       AdaBoostClassifier         1  0.414553\n",
       "7       AdaBoostClassifier         2  0.350877\n",
       "8       AdaBoostClassifier         3  0.323077\n",
       "9       AdaBoostClassifier         4  0.206150\n",
       "10  RandomForestClassifier         0  0.372470\n",
       "11  RandomForestClassifier         1  0.533077\n",
       "12  RandomForestClassifier         2  0.353209\n",
       "13  RandomForestClassifier         3  0.432479\n",
       "14  RandomForestClassifier         4  0.433077\n",
       "15           XGBClassifier         0  0.419394\n",
       "16           XGBClassifier         1  0.591667\n",
       "17           XGBClassifier         2  0.372381\n",
       "18           XGBClassifier         3  0.545641\n",
       "19           XGBClassifier         4  0.544524"
      ]
     },
     "execution_count": 145,
     "metadata": {},
     "output_type": "execute_result"
    }
   ],
   "source": [
    "cv_df"
   ]
  },
  {
   "cell_type": "code",
   "execution_count": 146,
   "id": "b95a22c0",
   "metadata": {},
   "outputs": [],
   "source": [
    "cv_df[\"model_name\"] = cv_df[\"model_name\"].apply(lambda x: x.replace(\"AdaBoostClassifier\", \"AdaBoost\"))\n",
    "cv_df[\"model_name\"] = cv_df[\"model_name\"].apply(lambda x: x.replace(\"RandomForestClassifier\", \"RandomForest\"))\n",
    "cv_df[\"model_name\"] = cv_df[\"model_name\"].apply(lambda x: x.replace(\"XGBClassifier\", \"XGBoost\"))"
   ]
  },
  {
   "cell_type": "code",
   "execution_count": 147,
   "id": "52453a94",
   "metadata": {},
   "outputs": [
    {
     "data": {
      "image/png": "[encoded data removed]",
      "text/plain": [
       "<Figure size 640x480 with 1 Axes>"
      ]
     },
     "metadata": {},
     "output_type": "display_data"
    }
   ],
   "source": [
    "sns.boxplot(x='model_name', y='f1', data=cv_df)\n",
    "sns.stripplot(x='model_name', y='f1', data=cv_df, \n",
    "              size=2, jitter=True, edgecolor=\"gray\", linewidth=1)\n",
    "\n",
    "plt.ylabel(\"F1 score\")\n",
    "plt.xlabel(\"Classification model\")\n",
    "plt.show()"
   ]
  },
  {
   "cell_type": "code",
   "execution_count": 154,
   "id": "6278caf8",
   "metadata": {},
   "outputs": [
    {
     "data": {
      "text/plain": [
       "0.4947212787212787"
      ]
     },
     "execution_count": 154,
     "metadata": {},
     "output_type": "execute_result"
    }
   ],
   "source": [
    "cv_df[cv_df.model_name == \"XGBoost\"].f1.mean()"
   ]
  },
  {
   "cell_type": "code",
   "execution_count": 152,
   "id": "8f4c3cf4",
   "metadata": {},
   "outputs": [
    {
     "data": {
      "text/plain": [
       "0.4248621340819483"
      ]
     },
     "execution_count": 152,
     "metadata": {},
     "output_type": "execute_result"
    }
   ],
   "source": [
    "cv_df[cv_df.model_name == \"RandomForest\"].f1.mean()"
   ]
  },
  {
   "cell_type": "code",
   "execution_count": 153,
   "id": "ee9d9c25",
   "metadata": {},
   "outputs": [
    {
     "data": {
      "text/plain": [
       "0.4279949246547711"
      ]
     },
     "execution_count": 153,
     "metadata": {},
     "output_type": "execute_result"
    }
   ],
   "source": [
    "cv_df[cv_df.model_name == \"LogisticRegression\"].f1.mean()"
   ]
  },
  {
   "cell_type": "code",
   "execution_count": 95,
   "id": "ec74f6d7",
   "metadata": {},
   "outputs": [
    {
     "data": {
      "text/plain": [
       "XGBClassifier(base_score=None, booster=None, callbacks=None,\n",
       "              colsample_bylevel=None, colsample_bynode=None,\n",
       "              colsample_bytree=None, early_stopping_rounds=None,\n",
       "              enable_categorical=False, eval_metric=None, feature_types=None,\n",
       "              gamma=None, gpu_id=None, grow_policy=None, importance_type=None,\n",
       "              interaction_constraints=None, learning_rate=None, max_bin=None,\n",
       "              max_cat_threshold=None, max_cat_to_onehot=None,\n",
       "              max_delta_step=None, max_depth=None, max_leaves=None,\n",
       "              min_child_weight=None, missing=nan, monotone_constraints=None,\n",
       "              n_estimators=100, n_jobs=None, num_parallel_tree=None,\n",
       "              objective='multi:softprob', predictor=None, ...)"
      ]
     },
     "execution_count": 95,
     "metadata": {},
     "output_type": "execute_result"
    }
   ],
   "source": [
    "#train model\n",
    "model = XGBClassifier()\n",
    "model.fit(x_train,y_train)"
   ]
  },
  {
   "cell_type": "code",
   "execution_count": 96,
   "id": "2353a408",
   "metadata": {},
   "outputs": [],
   "source": [
    "aus_data = pd.read_csv('AUdatafull.csv')"
   ]
  },
  {
   "cell_type": "code",
   "execution_count": 299,
   "id": "f72640f6",
   "metadata": {},
   "outputs": [
    {
     "name": "stdout",
     "output_type": "stream",
     "text": [
      "<class 'pandas.core.frame.DataFrame'>\n",
      "RangeIndex: 1655 entries, 0 to 1654\n",
      "Data columns (total 20 columns):\n",
      " #   Column             Non-Null Count  Dtype  \n",
      "---  ------             --------------  -----  \n",
      " 0   Authors            1655 non-null   object \n",
      " 1   Author(s) ID       1655 non-null   object \n",
      " 2   Title              1655 non-null   object \n",
      " 3   Year               1655 non-null   int64  \n",
      " 4   Source title       1655 non-null   object \n",
      " 5   Volume             1564 non-null   object \n",
      " 6   Issue              506 non-null    object \n",
      " 7   Art. No.           1176 non-null   object \n",
      " 8   Page start         416 non-null    object \n",
      " 9   Page end           413 non-null    object \n",
      " 10  Page count         0 non-null      float64\n",
      " 11  Cited by           1167 non-null   float64\n",
      " 12  DOI                1651 non-null   object \n",
      " 13  Link               1655 non-null   object \n",
      " 14  Abstract           1655 non-null   object \n",
      " 15  Document Type      1655 non-null   object \n",
      " 16  Publication Stage  1655 non-null   object \n",
      " 17  Open Access        545 non-null    object \n",
      " 18  Source             1655 non-null   object \n",
      " 19  EID                1655 non-null   object \n",
      "dtypes: float64(2), int64(1), object(17)\n",
      "memory usage: 258.7+ KB\n"
     ]
    }
   ],
   "source": [
    "aus_data.info()"
   ]
  },
  {
   "cell_type": "code",
   "execution_count": 97,
   "id": "c82c9fa6",
   "metadata": {},
   "outputs": [
    {
     "name": "stdout",
     "output_type": "stream",
     "text": [
      "<class 'pandas.core.frame.DataFrame'>\n",
      "Int64Index: 1639 entries, 0 to 1654\n",
      "Data columns (total 20 columns):\n",
      " #   Column             Non-Null Count  Dtype  \n",
      "---  ------             --------------  -----  \n",
      " 0   Authors            1639 non-null   object \n",
      " 1   Author(s) ID       1639 non-null   object \n",
      " 2   Title              1639 non-null   object \n",
      " 3   Year               1639 non-null   int64  \n",
      " 4   Source title       1639 non-null   object \n",
      " 5   Volume             1548 non-null   object \n",
      " 6   Issue              496 non-null    object \n",
      " 7   Art. No.           1170 non-null   object \n",
      " 8   Page start         406 non-null    object \n",
      " 9   Page end           405 non-null    object \n",
      " 10  Page count         0 non-null      float64\n",
      " 11  Cited by           1160 non-null   float64\n",
      " 12  DOI                1635 non-null   object \n",
      " 13  Link               1639 non-null   object \n",
      " 14  Abstract           1639 non-null   object \n",
      " 15  Document Type      1639 non-null   object \n",
      " 16  Publication Stage  1639 non-null   object \n",
      " 17  Open Access        538 non-null    object \n",
      " 18  Source             1639 non-null   object \n",
      " 19  EID                1639 non-null   object \n",
      "dtypes: float64(2), int64(1), object(17)\n",
      "memory usage: 268.9+ KB\n"
     ]
    }
   ],
   "source": [
    "aus_data = aus_data[aus_data.Abstract.str.contains(\"No abstract\") == False] #drop no abstracts\n",
    "aus_data.info()"
   ]
  },
  {
   "cell_type": "code",
   "execution_count": 98,
   "id": "80c75185",
   "metadata": {},
   "outputs": [],
   "source": [
    "#lowercase\n",
    "aus_data.Title = aus_data.Title.str.lower()\n",
    "aus_data.Abstract = aus_data.Abstract.str.lower()"
   ]
  },
  {
   "cell_type": "code",
   "execution_count": 99,
   "id": "93be3638",
   "metadata": {},
   "outputs": [],
   "source": [
    "aus_data['Text'] = aus_data.Title + ' ' + aus_data.Abstract"
   ]
  },
  {
   "cell_type": "code",
   "execution_count": 100,
   "id": "4327d4c6",
   "metadata": {},
   "outputs": [
    {
     "data": {
      "text/html": [
       "<div>\n",
       "<style scoped>\n",
       "    .dataframe tbody tr th:only-of-type {\n",
       "        vertical-align: middle;\n",
       "    }\n",
       "\n",
       "    .dataframe tbody tr th {\n",
       "        vertical-align: top;\n",
       "    }\n",
       "\n",
       "    .dataframe thead th {\n",
       "        text-align: right;\n",
       "    }\n",
       "</style>\n",
       "<table border=\"1\" class=\"dataframe\">\n",
       "  <thead>\n",
       "    <tr style=\"text-align: right;\">\n",
       "      <th></th>\n",
       "      <th>Year</th>\n",
       "      <th>Title</th>\n",
       "      <th>Abstract</th>\n",
       "      <th>Text</th>\n",
       "    </tr>\n",
       "  </thead>\n",
       "  <tbody>\n",
       "    <tr>\n",
       "      <th>0</th>\n",
       "      <td>2023</td>\n",
       "      <td>global mining footprint mapped from high-resol...</td>\n",
       "      <td>mining is of major economic, environmental and...</td>\n",
       "      <td>global mining footprint mapped from high-resol...</td>\n",
       "    </tr>\n",
       "    <tr>\n",
       "      <th>1</th>\n",
       "      <td>2023</td>\n",
       "      <td>soil phosphorus availability and fractionation...</td>\n",
       "      <td>using agricultural wastes as an alternative ph...</td>\n",
       "      <td>soil phosphorus availability and fractionation...</td>\n",
       "    </tr>\n",
       "    <tr>\n",
       "      <th>2</th>\n",
       "      <td>2023</td>\n",
       "      <td>high-efficiency gold recovery by additive-indu...</td>\n",
       "      <td>developing an eco-friendly, efficient, and hig...</td>\n",
       "      <td>high-efficiency gold recovery by additive-indu...</td>\n",
       "    </tr>\n",
       "    <tr>\n",
       "      <th>3</th>\n",
       "      <td>2023</td>\n",
       "      <td>engineered mineralogical interfaces as radionu...</td>\n",
       "      <td>effective capture of fugitive actinides and da...</td>\n",
       "      <td>engineered mineralogical interfaces as radionu...</td>\n",
       "    </tr>\n",
       "    <tr>\n",
       "      <th>4</th>\n",
       "      <td>2023</td>\n",
       "      <td>waste-derived catalysts for water electrolysis...</td>\n",
       "      <td>the sustainable production of green hydrogen v...</td>\n",
       "      <td>waste-derived catalysts for water electrolysis...</td>\n",
       "    </tr>\n",
       "  </tbody>\n",
       "</table>\n",
       "</div>"
      ],
      "text/plain": [
       "   Year                                              Title  \\\n",
       "0  2023  global mining footprint mapped from high-resol...   \n",
       "1  2023  soil phosphorus availability and fractionation...   \n",
       "2  2023  high-efficiency gold recovery by additive-indu...   \n",
       "3  2023  engineered mineralogical interfaces as radionu...   \n",
       "4  2023  waste-derived catalysts for water electrolysis...   \n",
       "\n",
       "                                            Abstract  \\\n",
       "0  mining is of major economic, environmental and...   \n",
       "1  using agricultural wastes as an alternative ph...   \n",
       "2  developing an eco-friendly, efficient, and hig...   \n",
       "3  effective capture of fugitive actinides and da...   \n",
       "4  the sustainable production of green hydrogen v...   \n",
       "\n",
       "                                                Text  \n",
       "0  global mining footprint mapped from high-resol...  \n",
       "1  soil phosphorus availability and fractionation...  \n",
       "2  high-efficiency gold recovery by additive-indu...  \n",
       "3  engineered mineralogical interfaces as radionu...  \n",
       "4  waste-derived catalysts for water electrolysis...  "
      ]
     },
     "execution_count": 100,
     "metadata": {},
     "output_type": "execute_result"
    }
   ],
   "source": [
    "aus_data = aus_data[['Year','Title','Abstract','Text']]\n",
    "aus_data.head()"
   ]
  },
  {
   "cell_type": "code",
   "execution_count": 101,
   "id": "33214d34",
   "metadata": {},
   "outputs": [],
   "source": [
    "aus_docs=vectorizer.transform(aus_data.Text.tolist()) #tfidf transformation"
   ]
  },
  {
   "cell_type": "code",
   "execution_count": 102,
   "id": "d7490ef1",
   "metadata": {},
   "outputs": [],
   "source": [
    "aus_label = model.predict(aus_docs)"
   ]
  },
  {
   "cell_type": "code",
   "execution_count": 103,
   "id": "ae385f9c",
   "metadata": {},
   "outputs": [
    {
     "data": {
      "text/html": [
       "<div>\n",
       "<style scoped>\n",
       "    .dataframe tbody tr th:only-of-type {\n",
       "        vertical-align: middle;\n",
       "    }\n",
       "\n",
       "    .dataframe tbody tr th {\n",
       "        vertical-align: top;\n",
       "    }\n",
       "\n",
       "    .dataframe thead th {\n",
       "        text-align: right;\n",
       "    }\n",
       "</style>\n",
       "<table border=\"1\" class=\"dataframe\">\n",
       "  <thead>\n",
       "    <tr style=\"text-align: right;\">\n",
       "      <th></th>\n",
       "      <th>Year</th>\n",
       "      <th>Title</th>\n",
       "      <th>Abstract</th>\n",
       "      <th>Text</th>\n",
       "      <th>y</th>\n",
       "    </tr>\n",
       "  </thead>\n",
       "  <tbody>\n",
       "    <tr>\n",
       "      <th>0</th>\n",
       "      <td>2023</td>\n",
       "      <td>global mining footprint mapped from high-resol...</td>\n",
       "      <td>mining is of major economic, environmental and...</td>\n",
       "      <td>global mining footprint mapped from high-resol...</td>\n",
       "      <td>1</td>\n",
       "    </tr>\n",
       "    <tr>\n",
       "      <th>1</th>\n",
       "      <td>2023</td>\n",
       "      <td>soil phosphorus availability and fractionation...</td>\n",
       "      <td>using agricultural wastes as an alternative ph...</td>\n",
       "      <td>soil phosphorus availability and fractionation...</td>\n",
       "      <td>0</td>\n",
       "    </tr>\n",
       "    <tr>\n",
       "      <th>2</th>\n",
       "      <td>2023</td>\n",
       "      <td>high-efficiency gold recovery by additive-indu...</td>\n",
       "      <td>developing an eco-friendly, efficient, and hig...</td>\n",
       "      <td>high-efficiency gold recovery by additive-indu...</td>\n",
       "      <td>3</td>\n",
       "    </tr>\n",
       "    <tr>\n",
       "      <th>3</th>\n",
       "      <td>2023</td>\n",
       "      <td>engineered mineralogical interfaces as radionu...</td>\n",
       "      <td>effective capture of fugitive actinides and da...</td>\n",
       "      <td>engineered mineralogical interfaces as radionu...</td>\n",
       "      <td>1</td>\n",
       "    </tr>\n",
       "    <tr>\n",
       "      <th>4</th>\n",
       "      <td>2023</td>\n",
       "      <td>waste-derived catalysts for water electrolysis...</td>\n",
       "      <td>the sustainable production of green hydrogen v...</td>\n",
       "      <td>waste-derived catalysts for water electrolysis...</td>\n",
       "      <td>3</td>\n",
       "    </tr>\n",
       "  </tbody>\n",
       "</table>\n",
       "</div>"
      ],
      "text/plain": [
       "   Year                                              Title  \\\n",
       "0  2023  global mining footprint mapped from high-resol...   \n",
       "1  2023  soil phosphorus availability and fractionation...   \n",
       "2  2023  high-efficiency gold recovery by additive-indu...   \n",
       "3  2023  engineered mineralogical interfaces as radionu...   \n",
       "4  2023  waste-derived catalysts for water electrolysis...   \n",
       "\n",
       "                                            Abstract  \\\n",
       "0  mining is of major economic, environmental and...   \n",
       "1  using agricultural wastes as an alternative ph...   \n",
       "2  developing an eco-friendly, efficient, and hig...   \n",
       "3  effective capture of fugitive actinides and da...   \n",
       "4  the sustainable production of green hydrogen v...   \n",
       "\n",
       "                                                Text  y  \n",
       "0  global mining footprint mapped from high-resol...  1  \n",
       "1  soil phosphorus availability and fractionation...  0  \n",
       "2  high-efficiency gold recovery by additive-indu...  3  \n",
       "3  engineered mineralogical interfaces as radionu...  1  \n",
       "4  waste-derived catalysts for water electrolysis...  3  "
      ]
     },
     "execution_count": 103,
     "metadata": {},
     "output_type": "execute_result"
    }
   ],
   "source": [
    "aus_data['y'] = aus_label\n",
    "aus_data.head()"
   ]
  },
  {
   "cell_type": "code",
   "execution_count": 104,
   "id": "7dc95230",
   "metadata": {},
   "outputs": [],
   "source": [
    "dic_name = {0: 'soil', 1: 'water', 2:'air', 3:'metal', 4: 'chemical'}"
   ]
  },
  {
   "cell_type": "code",
   "execution_count": 105,
   "id": "0a52f238",
   "metadata": {},
   "outputs": [],
   "source": [
    "aus_data['Label']= aus_data['y'].map(dic_name)"
   ]
  },
  {
   "cell_type": "code",
   "execution_count": 106,
   "id": "64c9e2f1",
   "metadata": {},
   "outputs": [],
   "source": [
    "probs = model.predict_proba(aus_docs).tolist()\n",
    "\n",
    "max_probs=[]\n",
    "for each in probs:\n",
    "    max_probs.append(max(each))"
   ]
  },
  {
   "cell_type": "code",
   "execution_count": 107,
   "id": "9e9bf972",
   "metadata": {},
   "outputs": [],
   "source": [
    "aus_data['Probability']  = max_probs"
   ]
  },
  {
   "cell_type": "code",
   "execution_count": 108,
   "id": "90f803d0",
   "metadata": {},
   "outputs": [
    {
     "data": {
      "text/html": [
       "<div>\n",
       "<style scoped>\n",
       "    .dataframe tbody tr th:only-of-type {\n",
       "        vertical-align: middle;\n",
       "    }\n",
       "\n",
       "    .dataframe tbody tr th {\n",
       "        vertical-align: top;\n",
       "    }\n",
       "\n",
       "    .dataframe thead th {\n",
       "        text-align: right;\n",
       "    }\n",
       "</style>\n",
       "<table border=\"1\" class=\"dataframe\">\n",
       "  <thead>\n",
       "    <tr style=\"text-align: right;\">\n",
       "      <th></th>\n",
       "      <th>Year</th>\n",
       "      <th>Title</th>\n",
       "      <th>Abstract</th>\n",
       "      <th>Text</th>\n",
       "      <th>y</th>\n",
       "      <th>Label</th>\n",
       "      <th>Probability</th>\n",
       "    </tr>\n",
       "  </thead>\n",
       "  <tbody>\n",
       "    <tr>\n",
       "      <th>0</th>\n",
       "      <td>2023</td>\n",
       "      <td>global mining footprint mapped from high-resol...</td>\n",
       "      <td>mining is of major economic, environmental and...</td>\n",
       "      <td>global mining footprint mapped from high-resol...</td>\n",
       "      <td>1</td>\n",
       "      <td>water</td>\n",
       "      <td>0.888903</td>\n",
       "    </tr>\n",
       "    <tr>\n",
       "      <th>1</th>\n",
       "      <td>2023</td>\n",
       "      <td>soil phosphorus availability and fractionation...</td>\n",
       "      <td>using agricultural wastes as an alternative ph...</td>\n",
       "      <td>soil phosphorus availability and fractionation...</td>\n",
       "      <td>0</td>\n",
       "      <td>soil</td>\n",
       "      <td>0.978994</td>\n",
       "    </tr>\n",
       "    <tr>\n",
       "      <th>2</th>\n",
       "      <td>2023</td>\n",
       "      <td>high-efficiency gold recovery by additive-indu...</td>\n",
       "      <td>developing an eco-friendly, efficient, and hig...</td>\n",
       "      <td>high-efficiency gold recovery by additive-indu...</td>\n",
       "      <td>3</td>\n",
       "      <td>metal</td>\n",
       "      <td>0.426649</td>\n",
       "    </tr>\n",
       "    <tr>\n",
       "      <th>3</th>\n",
       "      <td>2023</td>\n",
       "      <td>engineered mineralogical interfaces as radionu...</td>\n",
       "      <td>effective capture of fugitive actinides and da...</td>\n",
       "      <td>engineered mineralogical interfaces as radionu...</td>\n",
       "      <td>1</td>\n",
       "      <td>water</td>\n",
       "      <td>0.860382</td>\n",
       "    </tr>\n",
       "    <tr>\n",
       "      <th>4</th>\n",
       "      <td>2023</td>\n",
       "      <td>waste-derived catalysts for water electrolysis...</td>\n",
       "      <td>the sustainable production of green hydrogen v...</td>\n",
       "      <td>waste-derived catalysts for water electrolysis...</td>\n",
       "      <td>3</td>\n",
       "      <td>metal</td>\n",
       "      <td>0.952830</td>\n",
       "    </tr>\n",
       "  </tbody>\n",
       "</table>\n",
       "</div>"
      ],
      "text/plain": [
       "   Year                                              Title  \\\n",
       "0  2023  global mining footprint mapped from high-resol...   \n",
       "1  2023  soil phosphorus availability and fractionation...   \n",
       "2  2023  high-efficiency gold recovery by additive-indu...   \n",
       "3  2023  engineered mineralogical interfaces as radionu...   \n",
       "4  2023  waste-derived catalysts for water electrolysis...   \n",
       "\n",
       "                                            Abstract  \\\n",
       "0  mining is of major economic, environmental and...   \n",
       "1  using agricultural wastes as an alternative ph...   \n",
       "2  developing an eco-friendly, efficient, and hig...   \n",
       "3  effective capture of fugitive actinides and da...   \n",
       "4  the sustainable production of green hydrogen v...   \n",
       "\n",
       "                                                Text  y  Label  Probability  \n",
       "0  global mining footprint mapped from high-resol...  1  water     0.888903  \n",
       "1  soil phosphorus availability and fractionation...  0   soil     0.978994  \n",
       "2  high-efficiency gold recovery by additive-indu...  3  metal     0.426649  \n",
       "3  engineered mineralogical interfaces as radionu...  1  water     0.860382  \n",
       "4  waste-derived catalysts for water electrolysis...  3  metal     0.952830  "
      ]
     },
     "execution_count": 108,
     "metadata": {},
     "output_type": "execute_result"
    }
   ],
   "source": [
    "#preview\n",
    "aus_data.head()"
   ]
  },
  {
   "cell_type": "code",
   "execution_count": 124,
   "id": "d4b508a6",
   "metadata": {},
   "outputs": [
    {
     "data": {
      "text/plain": [
       "0.9975689053535461"
      ]
     },
     "execution_count": 124,
     "metadata": {},
     "output_type": "execute_result"
    }
   ],
   "source": [
    "aus_data.Probability.max()"
   ]
  },
  {
   "cell_type": "code",
   "execution_count": 125,
   "id": "08ff011d",
   "metadata": {},
   "outputs": [
    {
     "data": {
      "text/plain": [
       "0.2470906525850296"
      ]
     },
     "execution_count": 125,
     "metadata": {},
     "output_type": "execute_result"
    }
   ],
   "source": [
    "aus_data.Probability.min()"
   ]
  },
  {
   "cell_type": "code",
   "execution_count": 158,
   "id": "7d20ea60",
   "metadata": {},
   "outputs": [
    {
     "data": {
      "image/png": "[encoded data removed]",
      "text/plain": [
       "<Figure size 640x480 with 1 Axes>"
      ]
     },
     "metadata": {},
     "output_type": "display_data"
    }
   ],
   "source": [
    "plt.hist(aus_data.Probability, bins=5,edgecolor=\"black\")\n",
    "plt.xlabel('Model confidence')\n",
    "plt.ylabel('Number of papers')\n",
    "plt.show()"
   ]
  },
  {
   "cell_type": "code",
   "execution_count": 228,
   "id": "b65ecb63",
   "metadata": {},
   "outputs": [],
   "source": [
    "macro_f1 = []\n",
    "prob_list = []\n",
    "len_list = []\n",
    "\n",
    "ranges = pynum_float.arange(0.7,1, 0.01)"
   ]
  },
  {
   "cell_type": "code",
   "execution_count": 229,
   "id": "5435ae29",
   "metadata": {},
   "outputs": [
    {
     "name": "stderr",
     "output_type": "stream",
     "text": [
      "/var/folders/gt/0hqp7cq57cv8tzl8cblngkpw0000gn/T/ipykernel_89940/2644344685.py:11: FutureWarning: The frame.append method is deprecated and will be removed from pandas in a future version. Use pandas.concat instead.\n",
      "  dt = data_org.append(additional_data)\n",
      "/var/folders/gt/0hqp7cq57cv8tzl8cblngkpw0000gn/T/ipykernel_89940/2644344685.py:11: FutureWarning: The frame.append method is deprecated and will be removed from pandas in a future version. Use pandas.concat instead.\n",
      "  dt = data_org.append(additional_data)\n",
      "/var/folders/gt/0hqp7cq57cv8tzl8cblngkpw0000gn/T/ipykernel_89940/2644344685.py:11: FutureWarning: The frame.append method is deprecated and will be removed from pandas in a future version. Use pandas.concat instead.\n",
      "  dt = data_org.append(additional_data)\n",
      "/var/folders/gt/0hqp7cq57cv8tzl8cblngkpw0000gn/T/ipykernel_89940/2644344685.py:11: FutureWarning: The frame.append method is deprecated and will be removed from pandas in a future version. Use pandas.concat instead.\n",
      "  dt = data_org.append(additional_data)\n",
      "/var/folders/gt/0hqp7cq57cv8tzl8cblngkpw0000gn/T/ipykernel_89940/2644344685.py:11: FutureWarning: The frame.append method is deprecated and will be removed from pandas in a future version. Use pandas.concat instead.\n",
      "  dt = data_org.append(additional_data)\n",
      "/var/folders/gt/0hqp7cq57cv8tzl8cblngkpw0000gn/T/ipykernel_89940/2644344685.py:11: FutureWarning: The frame.append method is deprecated and will be removed from pandas in a future version. Use pandas.concat instead.\n",
      "  dt = data_org.append(additional_data)\n",
      "/var/folders/gt/0hqp7cq57cv8tzl8cblngkpw0000gn/T/ipykernel_89940/2644344685.py:11: FutureWarning: The frame.append method is deprecated and will be removed from pandas in a future version. Use pandas.concat instead.\n",
      "  dt = data_org.append(additional_data)\n",
      "/var/folders/gt/0hqp7cq57cv8tzl8cblngkpw0000gn/T/ipykernel_89940/2644344685.py:11: FutureWarning: The frame.append method is deprecated and will be removed from pandas in a future version. Use pandas.concat instead.\n",
      "  dt = data_org.append(additional_data)\n",
      "/var/folders/gt/0hqp7cq57cv8tzl8cblngkpw0000gn/T/ipykernel_89940/2644344685.py:11: FutureWarning: The frame.append method is deprecated and will be removed from pandas in a future version. Use pandas.concat instead.\n",
      "  dt = data_org.append(additional_data)\n",
      "/var/folders/gt/0hqp7cq57cv8tzl8cblngkpw0000gn/T/ipykernel_89940/2644344685.py:11: FutureWarning: The frame.append method is deprecated and will be removed from pandas in a future version. Use pandas.concat instead.\n",
      "  dt = data_org.append(additional_data)\n",
      "/var/folders/gt/0hqp7cq57cv8tzl8cblngkpw0000gn/T/ipykernel_89940/2644344685.py:11: FutureWarning: The frame.append method is deprecated and will be removed from pandas in a future version. Use pandas.concat instead.\n",
      "  dt = data_org.append(additional_data)\n",
      "/var/folders/gt/0hqp7cq57cv8tzl8cblngkpw0000gn/T/ipykernel_89940/2644344685.py:11: FutureWarning: The frame.append method is deprecated and will be removed from pandas in a future version. Use pandas.concat instead.\n",
      "  dt = data_org.append(additional_data)\n",
      "/var/folders/gt/0hqp7cq57cv8tzl8cblngkpw0000gn/T/ipykernel_89940/2644344685.py:11: FutureWarning: The frame.append method is deprecated and will be removed from pandas in a future version. Use pandas.concat instead.\n",
      "  dt = data_org.append(additional_data)\n",
      "/var/folders/gt/0hqp7cq57cv8tzl8cblngkpw0000gn/T/ipykernel_89940/2644344685.py:11: FutureWarning: The frame.append method is deprecated and will be removed from pandas in a future version. Use pandas.concat instead.\n",
      "  dt = data_org.append(additional_data)\n",
      "/var/folders/gt/0hqp7cq57cv8tzl8cblngkpw0000gn/T/ipykernel_89940/2644344685.py:11: FutureWarning: The frame.append method is deprecated and will be removed from pandas in a future version. Use pandas.concat instead.\n",
      "  dt = data_org.append(additional_data)\n",
      "/var/folders/gt/0hqp7cq57cv8tzl8cblngkpw0000gn/T/ipykernel_89940/2644344685.py:11: FutureWarning: The frame.append method is deprecated and will be removed from pandas in a future version. Use pandas.concat instead.\n",
      "  dt = data_org.append(additional_data)\n",
      "/var/folders/gt/0hqp7cq57cv8tzl8cblngkpw0000gn/T/ipykernel_89940/2644344685.py:11: FutureWarning: The frame.append method is deprecated and will be removed from pandas in a future version. Use pandas.concat instead.\n",
      "  dt = data_org.append(additional_data)\n",
      "/var/folders/gt/0hqp7cq57cv8tzl8cblngkpw0000gn/T/ipykernel_89940/2644344685.py:11: FutureWarning: The frame.append method is deprecated and will be removed from pandas in a future version. Use pandas.concat instead.\n",
      "  dt = data_org.append(additional_data)\n",
      "/var/folders/gt/0hqp7cq57cv8tzl8cblngkpw0000gn/T/ipykernel_89940/2644344685.py:11: FutureWarning: The frame.append method is deprecated and will be removed from pandas in a future version. Use pandas.concat instead.\n",
      "  dt = data_org.append(additional_data)\n",
      "/var/folders/gt/0hqp7cq57cv8tzl8cblngkpw0000gn/T/ipykernel_89940/2644344685.py:11: FutureWarning: The frame.append method is deprecated and will be removed from pandas in a future version. Use pandas.concat instead.\n",
      "  dt = data_org.append(additional_data)\n",
      "/var/folders/gt/0hqp7cq57cv8tzl8cblngkpw0000gn/T/ipykernel_89940/2644344685.py:11: FutureWarning: The frame.append method is deprecated and will be removed from pandas in a future version. Use pandas.concat instead.\n",
      "  dt = data_org.append(additional_data)\n",
      "/var/folders/gt/0hqp7cq57cv8tzl8cblngkpw0000gn/T/ipykernel_89940/2644344685.py:11: FutureWarning: The frame.append method is deprecated and will be removed from pandas in a future version. Use pandas.concat instead.\n",
      "  dt = data_org.append(additional_data)\n",
      "/var/folders/gt/0hqp7cq57cv8tzl8cblngkpw0000gn/T/ipykernel_89940/2644344685.py:11: FutureWarning: The frame.append method is deprecated and will be removed from pandas in a future version. Use pandas.concat instead.\n",
      "  dt = data_org.append(additional_data)\n",
      "/var/folders/gt/0hqp7cq57cv8tzl8cblngkpw0000gn/T/ipykernel_89940/2644344685.py:11: FutureWarning: The frame.append method is deprecated and will be removed from pandas in a future version. Use pandas.concat instead.\n",
      "  dt = data_org.append(additional_data)\n",
      "/var/folders/gt/0hqp7cq57cv8tzl8cblngkpw0000gn/T/ipykernel_89940/2644344685.py:11: FutureWarning: The frame.append method is deprecated and will be removed from pandas in a future version. Use pandas.concat instead.\n",
      "  dt = data_org.append(additional_data)\n",
      "/var/folders/gt/0hqp7cq57cv8tzl8cblngkpw0000gn/T/ipykernel_89940/2644344685.py:11: FutureWarning: The frame.append method is deprecated and will be removed from pandas in a future version. Use pandas.concat instead.\n",
      "  dt = data_org.append(additional_data)\n",
      "/var/folders/gt/0hqp7cq57cv8tzl8cblngkpw0000gn/T/ipykernel_89940/2644344685.py:11: FutureWarning: The frame.append method is deprecated and will be removed from pandas in a future version. Use pandas.concat instead.\n",
      "  dt = data_org.append(additional_data)\n",
      "/var/folders/gt/0hqp7cq57cv8tzl8cblngkpw0000gn/T/ipykernel_89940/2644344685.py:11: FutureWarning: The frame.append method is deprecated and will be removed from pandas in a future version. Use pandas.concat instead.\n",
      "  dt = data_org.append(additional_data)\n",
      "/var/folders/gt/0hqp7cq57cv8tzl8cblngkpw0000gn/T/ipykernel_89940/2644344685.py:11: FutureWarning: The frame.append method is deprecated and will be removed from pandas in a future version. Use pandas.concat instead.\n",
      "  dt = data_org.append(additional_data)\n",
      "/var/folders/gt/0hqp7cq57cv8tzl8cblngkpw0000gn/T/ipykernel_89940/2644344685.py:11: FutureWarning: The frame.append method is deprecated and will be removed from pandas in a future version. Use pandas.concat instead.\n",
      "  dt = data_org.append(additional_data)\n",
      "/var/folders/gt/0hqp7cq57cv8tzl8cblngkpw0000gn/T/ipykernel_89940/2644344685.py:11: FutureWarning: The frame.append method is deprecated and will be removed from pandas in a future version. Use pandas.concat instead.\n",
      "  dt = data_org.append(additional_data)\n"
     ]
    }
   ],
   "source": [
    "#prob\n",
    "\n",
    "for p in ranges:\n",
    "    additional_data = pd.DataFrame()\n",
    "    dt = pd.DataFrame()\n",
    "    \n",
    "    additional_data = aus_data[aus_data['Probability'] > p]\n",
    "    additional_data = additional_data[['Title','Abstract','Label','y','Text']]\n",
    "    lens = len(additional_data)\n",
    "    \n",
    "    dt = data_org.append(additional_data)\n",
    "    \n",
    "    dt = dt.drop_duplicates (subset = ['Title','Abstract'], keep = 'first')\n",
    "    \n",
    "    trainDocs_au = dt.Text.tolist()\n",
    "    trainLabels_au = dt.y.tolist()\n",
    "    \n",
    "    x_train_au=vectorizer.fit_transform(trainDocs_au)\n",
    "    y_train_au=np.asarray(trainLabels_au)\n",
    "    \n",
    "    models = [XGBClassifier()]\n",
    "    CV = 5\n",
    "    cv_df = pd.DataFrame(index=range(CV))\n",
    "    entries = []\n",
    "    ave = None\n",
    "    for model in models: \n",
    "         model_name = model.__class__.__name__\n",
    "         accuracies = cross_val_score(model, x_train_au, y_train_au, scoring='f1_macro', cv=CV)\n",
    "         for fold_idx, accuracy in enumerate(accuracies):\n",
    "              entries.append((model_name, fold_idx, accuracy))\n",
    "    cv_df = pd.DataFrame(entries, columns=['model_name', 'fold_idx', 'f1'])\n",
    "    \n",
    "    ave = cv_df.f1.mean()\n",
    "    \n",
    "    macro_f1.append(ave)\n",
    "    prob_list.append(p)\n",
    "    len_list.append(lens)\n",
    "    "
   ]
  },
  {
   "cell_type": "code",
   "execution_count": 230,
   "id": "0c88ec45",
   "metadata": {},
   "outputs": [],
   "source": [
    "result = pd.DataFrame(list(zip(macro_f1, prob_list, len_list)),\n",
    "               columns =['f1','cutoff','papers'])\n"
   ]
  },
  {
   "cell_type": "code",
   "execution_count": 231,
   "id": "fbd4e7cb",
   "metadata": {},
   "outputs": [
    {
     "data": {
      "text/plain": [
       "Text(0, 0.5, 'Average F1 score')"
      ]
     },
     "execution_count": 231,
     "metadata": {},
     "output_type": "execute_result"
    },
    {
     "data": {
      "image/png": "[encoded data removed]",
      "text/plain": [
       "<Figure size 640x480 with 1 Axes>"
      ]
     },
     "metadata": {},
     "output_type": "display_data"
    }
   ],
   "source": [
    "plt.plot(result['cutoff'], result['f1'], color='red', marker='.')\n",
    "plt.xlabel('Probability threshold')\n",
    "plt.ylabel('Average F1 score')"
   ]
  },
  {
   "cell_type": "code",
   "execution_count": 232,
   "id": "dbd6d856",
   "metadata": {},
   "outputs": [
    {
     "data": {
      "text/html": [
       "<div>\n",
       "<style scoped>\n",
       "    .dataframe tbody tr th:only-of-type {\n",
       "        vertical-align: middle;\n",
       "    }\n",
       "\n",
       "    .dataframe tbody tr th {\n",
       "        vertical-align: top;\n",
       "    }\n",
       "\n",
       "    .dataframe thead th {\n",
       "        text-align: right;\n",
       "    }\n",
       "</style>\n",
       "<table border=\"1\" class=\"dataframe\">\n",
       "  <thead>\n",
       "    <tr style=\"text-align: right;\">\n",
       "      <th></th>\n",
       "      <th>f1</th>\n",
       "      <th>cutoff</th>\n",
       "      <th>papers</th>\n",
       "    </tr>\n",
       "  </thead>\n",
       "  <tbody>\n",
       "    <tr>\n",
       "      <th>12</th>\n",
       "      <td>0.869039</td>\n",
       "      <td>0.82</td>\n",
       "      <td>678</td>\n",
       "    </tr>\n",
       "  </tbody>\n",
       "</table>\n",
       "</div>"
      ],
      "text/plain": [
       "          f1  cutoff  papers\n",
       "12  0.869039    0.82     678"
      ]
     },
     "execution_count": 232,
     "metadata": {},
     "output_type": "execute_result"
    }
   ],
   "source": [
    "result[result.f1 == result.f1.max()]"
   ]
  },
  {
   "cell_type": "code",
   "execution_count": 233,
   "id": "8a9d721e",
   "metadata": {},
   "outputs": [
    {
     "data": {
      "text/plain": [
       "0.7830167943389109"
      ]
     },
     "execution_count": 233,
     "metadata": {},
     "output_type": "execute_result"
    }
   ],
   "source": [
    "result.f1.mean()"
   ]
  },
  {
   "cell_type": "code",
   "execution_count": 234,
   "id": "afc1bca3",
   "metadata": {},
   "outputs": [],
   "source": [
    "f_aus_data = aus_data[aus_data.Probability > 0.82]"
   ]
  },
  {
   "cell_type": "code",
   "execution_count": 297,
   "id": "31b1ca84",
   "metadata": {},
   "outputs": [],
   "source": [
    "f_aus_data.to_csv('audatafinal.csv',index = False)"
   ]
  },
  {
   "cell_type": "code",
   "execution_count": 298,
   "id": "97931c49",
   "metadata": {},
   "outputs": [
    {
     "name": "stdout",
     "output_type": "stream",
     "text": [
      "<class 'pandas.core.frame.DataFrame'>\n",
      "Int64Index: 678 entries, 0 to 1651\n",
      "Data columns (total 7 columns):\n",
      " #   Column       Non-Null Count  Dtype  \n",
      "---  ------       --------------  -----  \n",
      " 0   Year         678 non-null    int64  \n",
      " 1   Title        678 non-null    object \n",
      " 2   Abstract     678 non-null    object \n",
      " 3   Text         678 non-null    object \n",
      " 4   y            678 non-null    int64  \n",
      " 5   Label        678 non-null    object \n",
      " 6   Probability  678 non-null    float64\n",
      "dtypes: float64(1), int64(2), object(4)\n",
      "memory usage: 42.4+ KB\n"
     ]
    }
   ],
   "source": [
    "f_aus_data.info()"
   ]
  }
 ],
 "metadata": {
  "kernelspec": {
   "display_name": "Python 3 (ipykernel)",
   "language": "python",
   "name": "python3"
  },
  "language_info": {
   "codemirror_mode": {
    "name": "ipython",
    "version": 3
   },
   "file_extension": ".py",
   "mimetype": "text/x-python",
   "name": "python",
   "nbconvert_exporter": "python",
   "pygments_lexer": "ipython3",
   "version": "3.9.13"
  }
 },
 "nbformat": 4,
 "nbformat_minor": 5
}
